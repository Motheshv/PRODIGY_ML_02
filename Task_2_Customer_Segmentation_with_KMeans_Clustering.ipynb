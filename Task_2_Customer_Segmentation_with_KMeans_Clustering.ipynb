{
  "nbformat": 4,
  "nbformat_minor": 0,
  "metadata": {
    "colab": {
      "provenance": [],
      "include_colab_link": true
    },
    "kernelspec": {
      "name": "python3",
      "display_name": "Python 3"
    },
    "language_info": {
      "name": "python"
    }
  },
  "cells": [
    {
      "cell_type": "markdown",
      "metadata": {
        "id": "view-in-github",
        "colab_type": "text"
      },
      "source": [
        "<a href=\"https://colab.research.google.com/github/Motheshv/PRODIGY_ML_02/blob/main/Task_2_Customer_Segmentation_with_KMeans_Clustering.ipynb\" target=\"_parent\"><img src=\"https://colab.research.google.com/assets/colab-badge.svg\" alt=\"Open In Colab\"/></a>"
      ]
    },
    {
      "cell_type": "markdown",
      "source": [
        "# ML INTERN at PRODIGY INFOTECH\n",
        "# Author: V.MOTHESH\n",
        "# **Task** - **02**: Create a K-means clustering algorithm to group customers of a retail store based on their purchase history.\n",
        "\n",
        "# Project Overview: Customer Segmentation with K-means Clustering\n",
        "\n",
        "- Implemented advanced data analysis techniques to derive insights from a retail store's customer data.\n",
        "- Utilized K-means clustering, a robust unsupervised machine learning algorithm, to explore customer behavior patterns.\n",
        "- Examined key features such as 'Age,' 'Annual Income,' and 'Spending Score' to identify distinct customer segments.\n",
        "- Applied the Elbow Method meticulously to determine the optimal number of clusters, ensuring precise segmentation.\n",
        "- Created compelling visualizations, including a dynamic 3D graph, to illustrate comprehensive patterns within the customer data.\n",
        "- Utilized the silhouette score to provide a quantitative measure of clustering quality and evaluation.\n",
        "- Demonstrated the power of data-driven decision-making, enabling businesses to strategize, personalize, and optimize customer experiences with unparalleled precision.\n",
        "\n",
        "Dataset: https://www.kaggle.com/datasets/vjchoudhary7/customer-segmentation-tutorial-in-python"
      ],
      "metadata": {
        "id": "YI5FegGhwNb-"
      }
    },
    {
      "cell_type": "markdown",
      "source": [
        "# Import Libraries and Load Data\n",
        " Imports necessary libraries and loads the dataset into a Pandas DataFrame."
      ],
      "metadata": {
        "id": "zgpd4P_LrlGo"
      }
    },
    {
      "cell_type": "code",
      "execution_count": null,
      "metadata": {
        "id": "DnXGlqCDf77-"
      },
      "outputs": [],
      "source": [
        "# Import necessary libraries\n",
        "import pandas as pd\n",
        "from sklearn.model_selection import train_test_split\n",
        "from sklearn.cluster import KMeans\n",
        "from sklearn.preprocessing import StandardScaler\n",
        "from sklearn.metrics import silhouette_score\n",
        "import matplotlib.pyplot as plt"
      ]
    },
    {
      "cell_type": "code",
      "source": [
        "# Read the dataset into a Pandas DataFrame\n",
        "df = pd.read_csv('Mall_Customers.csv')\n",
        "# Print the first few rows of the DataFrame to verify the data has been loaded successfully\n",
        "print(df.head())"
      ],
      "metadata": {
        "colab": {
          "base_uri": "https://localhost:8080/"
        },
        "id": "yxyTV3GiioDR",
        "outputId": "eefe24e6-9d89-4d7f-9717-a22beeff2d10"
      },
      "execution_count": null,
      "outputs": [
        {
          "output_type": "stream",
          "name": "stdout",
          "text": [
            "   CustomerID  Gender  Age  Annual Income (k$)  Spending Score (1-100)\n",
            "0           1    Male   19                  15                      39\n",
            "1           2    Male   21                  15                      81\n",
            "2           3  Female   20                  16                       6\n",
            "3           4  Female   23                  16                      77\n",
            "4           5  Female   31                  17                      40\n"
          ]
        }
      ]
    },
    {
      "cell_type": "code",
      "source": [
        "# Display basic information about the DataFrame\n",
        "print(\"DataFrame Info:\")\n",
        "print(df.info())"
      ],
      "metadata": {
        "colab": {
          "base_uri": "https://localhost:8080/"
        },
        "id": "A0dgjrOojf0D",
        "outputId": "a464f260-c77e-48ba-f8e8-95c968927b1f"
      },
      "execution_count": null,
      "outputs": [
        {
          "output_type": "stream",
          "name": "stdout",
          "text": [
            "DataFrame Info:\n",
            "<class 'pandas.core.frame.DataFrame'>\n",
            "RangeIndex: 200 entries, 0 to 199\n",
            "Data columns (total 5 columns):\n",
            " #   Column                  Non-Null Count  Dtype \n",
            "---  ------                  --------------  ----- \n",
            " 0   CustomerID              200 non-null    int64 \n",
            " 1   Gender                  200 non-null    object\n",
            " 2   Age                     200 non-null    int64 \n",
            " 3   Annual Income (k$)      200 non-null    int64 \n",
            " 4   Spending Score (1-100)  200 non-null    int64 \n",
            "dtypes: int64(4), object(1)\n",
            "memory usage: 7.9+ KB\n",
            "None\n"
          ]
        }
      ]
    },
    {
      "cell_type": "code",
      "source": [
        "# Generate summary statistics of the numerical columns in the DataFrame\n",
        "print(df.describe())"
      ],
      "metadata": {
        "colab": {
          "base_uri": "https://localhost:8080/"
        },
        "id": "A7G2HqZCjf2b",
        "outputId": "32636535-e963-499c-9a33-86d3196d01f6"
      },
      "execution_count": null,
      "outputs": [
        {
          "output_type": "stream",
          "name": "stdout",
          "text": [
            "       CustomerID         Age  Annual Income (k$)  Spending Score (1-100)\n",
            "count  200.000000  200.000000          200.000000              200.000000\n",
            "mean   100.500000   38.850000           60.560000               50.200000\n",
            "std     57.879185   13.969007           26.264721               25.823522\n",
            "min      1.000000   18.000000           15.000000                1.000000\n",
            "25%     50.750000   28.750000           41.500000               34.750000\n",
            "50%    100.500000   36.000000           61.500000               50.000000\n",
            "75%    150.250000   49.000000           78.000000               73.000000\n",
            "max    200.000000   70.000000          137.000000               99.000000\n"
          ]
        }
      ]
    },
    {
      "cell_type": "markdown",
      "source": [
        "# Data Preprocessing and Feature Selection\n",
        "Selects relevant features for clustering and standardizes the selected features using StandardScaler.\n",
        "\n"
      ],
      "metadata": {
        "id": "2M1SiL-NryYk"
      }
    },
    {
      "cell_type": "code",
      "source": [
        "# Selecting the features for clustering\n",
        "features = df[['Age', 'Annual Income (k$)', 'Spending Score (1-100)']]"
      ],
      "metadata": {
        "id": "1yyzzTtmjf4-"
      },
      "execution_count": null,
      "outputs": []
    },
    {
      "cell_type": "code",
      "source": [
        "# Splitting the data into training and testing sets\n",
        "X_train, X_test = train_test_split(features, test_size=0.2, random_state=42)"
      ],
      "metadata": {
        "id": "2Anw4lrlkWzx"
      },
      "execution_count": null,
      "outputs": []
    },
    {
      "cell_type": "code",
      "source": [
        "# Standardize the features\n",
        "scaler = StandardScaler()\n",
        "X_train_scaled = scaler.fit_transform(X_train)\n",
        "X_test_scaled = scaler.transform(X_test)"
      ],
      "metadata": {
        "id": "7xZtmOeEjf7r"
      },
      "execution_count": null,
      "outputs": []
    },
    {
      "cell_type": "markdown",
      "source": [
        "# Determine Optimal Number of Clusters and Apply K-means Clustering\n",
        " Determines the optimal number of clusters using the Elbow method and applies K-means clustering with the chosen number of clusters to the standardized features."
      ],
      "metadata": {
        "id": "LWfNO4E2sPA3"
      }
    },
    {
      "cell_type": "code",
      "source": [
        "# Determine the optimal number of clusters using the Elbow method\n",
        "wcss = []\n",
        "for i in range(1, 11):\n",
        "    kmeans = KMeans(n_clusters=i, init='k-means++', max_iter=300, n_init=10, random_state=0)\n",
        "    kmeans.fit(scaled_features)\n",
        "    wcss.append(kmeans.inertia_)"
      ],
      "metadata": {
        "id": "AgwaQkPpjf-U",
        "colab": {
          "base_uri": "https://localhost:8080/",
          "height": 384
        },
        "outputId": "c6778d24-9e44-4d58-8e59-88799bb1365a"
      },
      "execution_count": null,
      "outputs": [
        {
          "output_type": "error",
          "ename": "NameError",
          "evalue": "name 'scaled_features' is not defined",
          "traceback": [
            "\u001b[0;31m---------------------------------------------------------------------------\u001b[0m",
            "\u001b[0;31mNameError\u001b[0m                                 Traceback (most recent call last)",
            "\u001b[0;32m<ipython-input-15-365d521fc5d2>\u001b[0m in \u001b[0;36m<cell line: 3>\u001b[0;34m()\u001b[0m\n\u001b[1;32m      3\u001b[0m \u001b[0;32mfor\u001b[0m \u001b[0mi\u001b[0m \u001b[0;32min\u001b[0m \u001b[0mrange\u001b[0m\u001b[0;34m(\u001b[0m\u001b[0;36m1\u001b[0m\u001b[0;34m,\u001b[0m \u001b[0;36m11\u001b[0m\u001b[0;34m)\u001b[0m\u001b[0;34m:\u001b[0m\u001b[0;34m\u001b[0m\u001b[0;34m\u001b[0m\u001b[0m\n\u001b[1;32m      4\u001b[0m     \u001b[0mkmeans\u001b[0m \u001b[0;34m=\u001b[0m \u001b[0mKMeans\u001b[0m\u001b[0;34m(\u001b[0m\u001b[0mn_clusters\u001b[0m\u001b[0;34m=\u001b[0m\u001b[0mi\u001b[0m\u001b[0;34m,\u001b[0m \u001b[0minit\u001b[0m\u001b[0;34m=\u001b[0m\u001b[0;34m'k-means++'\u001b[0m\u001b[0;34m,\u001b[0m \u001b[0mmax_iter\u001b[0m\u001b[0;34m=\u001b[0m\u001b[0;36m300\u001b[0m\u001b[0;34m,\u001b[0m \u001b[0mn_init\u001b[0m\u001b[0;34m=\u001b[0m\u001b[0;36m10\u001b[0m\u001b[0;34m,\u001b[0m \u001b[0mrandom_state\u001b[0m\u001b[0;34m=\u001b[0m\u001b[0;36m0\u001b[0m\u001b[0;34m)\u001b[0m\u001b[0;34m\u001b[0m\u001b[0;34m\u001b[0m\u001b[0m\n\u001b[0;32m----> 5\u001b[0;31m     \u001b[0mkmeans\u001b[0m\u001b[0;34m.\u001b[0m\u001b[0mfit\u001b[0m\u001b[0;34m(\u001b[0m\u001b[0mscaled_features\u001b[0m\u001b[0;34m)\u001b[0m\u001b[0;34m\u001b[0m\u001b[0;34m\u001b[0m\u001b[0m\n\u001b[0m\u001b[1;32m      6\u001b[0m     \u001b[0mwcss\u001b[0m\u001b[0;34m.\u001b[0m\u001b[0mappend\u001b[0m\u001b[0;34m(\u001b[0m\u001b[0mkmeans\u001b[0m\u001b[0;34m.\u001b[0m\u001b[0minertia_\u001b[0m\u001b[0;34m)\u001b[0m\u001b[0;34m\u001b[0m\u001b[0;34m\u001b[0m\u001b[0m\n",
            "\u001b[0;31mNameError\u001b[0m: name 'scaled_features' is not defined"
          ]
        }
      ]
    },
    {
      "cell_type": "code",
      "source": [
        "# Plot the Elbow method graph\n",
        "plt.figure(figsize=(10, 6))\n",
        "plt.plot(range(1, 11), wcss, marker='o', linestyle='--')\n",
        "plt.title('Elbow Method')\n",
        "plt.xlabel('Number of clusters')\n",
        "plt.ylabel('WCSS')  # Within-cluster sum of squares\n",
        "plt.show()"
      ],
      "metadata": {
        "id": "hR15tnAejgBO"
      },
      "execution_count": null,
      "outputs": []
    },
    {
      "cell_type": "markdown",
      "source": [
        "The Elbow Method graph illustrates the relationship between the number of clusters (k) and the within-cluster sum of squares (WCSS). WCSS measures the compactness of clusters. The point where the rate of decrease in WCSS sharply changes represents the optimal number of clusters, as it balances cluster cohesion with model simplicity."
      ],
      "metadata": {
        "id": "tTLjeI_csxQZ"
      }
    },
    {
      "cell_type": "code",
      "source": [
        "# Based on the elbow method, choose the optimal number of clusters\n",
        "optimal_clusters = 5"
      ],
      "metadata": {
        "id": "GdsRQ6nujgD9"
      },
      "execution_count": null,
      "outputs": []
    },
    {
      "cell_type": "code",
      "source": [
        "# Apply K-means clustering with the optimal number of clusters\n",
        "kmeans = KMeans(n_clusters=optimal_clusters, init='k-means++', max_iter=300, n_init=10, random_state=0)\n",
        "cluster_labels = kmeans.fit_predict(scaled_features)\n"
      ],
      "metadata": {
        "id": "pJZbhmJXjgGv"
      },
      "execution_count": null,
      "outputs": []
    },
    {
      "cell_type": "code",
      "source": [
        "# Apply K-means clustering to the training data with the optimal number of clusters\n",
        "kmeans = KMeans(n_clusters=optimal_clusters, init='k-means++', max_iter=300, n_init=10, random_state=0)\n",
        "train_cluster_labels = kmeans.fit_predict(X_train_scaled)\n"
      ],
      "metadata": {
        "id": "kEsgih1lkmst"
      },
      "execution_count": null,
      "outputs": []
    },
    {
      "cell_type": "code",
      "source": [
        "# Evaluate the clustering performance using silhouette score (optional)\n",
        "train_silhouette_score = silhouette_score(X_train_scaled, train_cluster_labels)\n",
        "test_silhouette_score = silhouette_score(X_test_scaled, test_cluster_labels)\n",
        "\n",
        "print(f'Training Silhouette Score: {train_silhouette_score:.2f}')\n",
        "print(f'Test Silhouette Score: {test_silhouette_score:.2f}')"
      ],
      "metadata": {
        "id": "i2GbUxjvksuq"
      },
      "execution_count": null,
      "outputs": []
    },
    {
      "cell_type": "code",
      "source": [
        "# Add cluster labels to the original data\n",
        "X_train['Cluster'] = train_cluster_labels\n",
        "X_test['Cluster'] = test_cluster_labels"
      ],
      "metadata": {
        "id": "MdoWWvt1jgKM"
      },
      "execution_count": null,
      "outputs": []
    },
    {
      "cell_type": "code",
      "source": [
        "# Print the count of customers in each cluster\n",
        "print(df['Cluster'].value_counts())"
      ],
      "metadata": {
        "id": "wQvNZRYbkGeP"
      },
      "execution_count": null,
      "outputs": []
    },
    {
      "cell_type": "markdown",
      "source": [
        "# Visualize the Clusters in 3D Plot\n",
        " Visualizes the clusters in a 3D scatter plot using the selected features (Age, Annual Income, and Spending Score) and different colors representing different clusters."
      ],
      "metadata": {
        "id": "BD5Jy3hgsexn"
      }
    },
    {
      "cell_type": "code",
      "source": [
        "# Visualize the clusters (assuming 3D plot for Age, Annual Income, and Spending Score)\n",
        "from mpl_toolkits.mplot3d import Axes3D\n"
      ],
      "metadata": {
        "id": "56vdy3e7kGgm"
      },
      "execution_count": null,
      "outputs": []
    },
    {
      "cell_type": "code",
      "source": [
        "fig = plt.figure(figsize=(12, 8))\n",
        "plt.title(\"Customer Segmentation\", fontsize = 15)\n",
        "ax = fig.add_subplot(111, projection='3d')\n",
        "ax.scatter(features['Age'], features['Annual Income (k$)'], features['Spending Score (1-100)'], c=cluster_labels, cmap='viridis', s=60)\n",
        "ax.set_xlabel('Age')\n",
        "ax.set_ylabel('Annual Income (k$)')\n",
        "ax.set_zlabel('Spending Score (1-100)')\n",
        "plt.show()"
      ],
      "metadata": {
        "id": "tHKpBehHkGiv"
      },
      "execution_count": null,
      "outputs": []
    },
    {
      "cell_type": "markdown",
      "source": [
        "The 3D graph visualizes the results of K-means clustering for customer segmentation. Each point represents a customer in a three-dimensional space defined by their 'Age,' 'Annual Income,' and 'Spending Score.' The distinct colors indicate different clusters created by the K-means algorithm. By grouping similar customers together, this graph helps businesses identify segments of customers with comparable spending behaviors, allowing for targeted marketing strategies and personalized customer services."
      ],
      "metadata": {
        "id": "ZCnu2N28tW15"
      }
    },
    {
      "cell_type": "markdown",
      "source": [
        "# Additional Visualizations for Cluster Analysis\n",
        "Generates additional visualizations for cluster analysis, including:\n",
        "\n",
        "# •  Pairplot:\n",
        "Creates a pairplot to visualize the relationships between different pairs of features, colored by cluster labels.\n"
      ],
      "metadata": {
        "id": "7_34Q-JItcCp"
      }
    },
    {
      "cell_type": "code",
      "source": [
        "# Pairplot for selected features colored by cluster\n",
        "sns.pairplot(df, vars=['Age', 'Annual Income (k$)', 'Spending Score (1-100)'], hue='Cluster', palette='viridis', diag_kind='kde')\n",
        "plt.suptitle('Pairplot for Customer Segmentation')\n",
        "plt.show()\n"
      ],
      "metadata": {
        "id": "AZawgFctqFA1"
      },
      "execution_count": null,
      "outputs": []
    },
    {
      "cell_type": "markdown",
      "source": [
        "# • Box Plots:\n",
        "Generates box plots for each feature, showing the distribution within each cluster."
      ],
      "metadata": {
        "id": "t0i1RLF-t6Dc"
      }
    },
    {
      "cell_type": "code",
      "source": [
        "# Box plots for each feature by cluster\n",
        "for feature in features.columns:\n",
        "    plt.figure(figsize=(8, 6))\n",
        "    sns.boxplot(x='Cluster', y=feature, data=df, palette='viridis')\n",
        "    plt.title(f'Cluster-wise Distribution of {feature}')\n",
        "    plt.show()"
      ],
      "metadata": {
        "id": "IqqRk9BNqFDX"
      },
      "execution_count": null,
      "outputs": []
    },
    {
      "cell_type": "markdown",
      "source": [
        "# • Silhouette Plot:\n",
        "\n",
        "Evaluates cluster quality using silhouette coefficients and displays a silhouette plot to visualize the silhouette coefficients for each data point within its cluster. The red dashed line represents the average silhouette score for all data points."
      ],
      "metadata": {
        "id": "RXn_gu3FuKW0"
      }
    },
    {
      "cell_type": "code",
      "source": [
        "from sklearn.metrics import silhouette_samples  # Import silhouette_samples function\n",
        "from mpl_toolkits.mplot3d import Axes3D\n",
        "\n",
        "# Silhouette plot for evaluating cluster quality\n",
        "silhouette_vals = silhouette_samples(scaled_features, cluster_labels)\n",
        "plt.figure(figsize=(10, 6))\n",
        "y_ticks = []\n",
        "y_lower, y_upper = 0, 0\n",
        "for i, cluster in enumerate(sorted(df['Cluster'].unique())):\n",
        "    cluster_silhouette_vals = silhouette_vals[df['Cluster'] == cluster]\n",
        "    cluster_silhouette_vals.sort()\n",
        "    y_upper += len(cluster_silhouette_vals)\n",
        "    color = plt.cm.viridis(float(i) / len(df['Cluster'].unique()))\n",
        "    plt.barh(range(y_lower, y_upper), cluster_silhouette_vals, color=color)\n",
        "    y_ticks.append((y_lower + y_upper) / 2)\n",
        "    y_lower += len(cluster_silhouette_vals)\n",
        "silhouette_avg = np.mean(silhouette_vals)\n",
        "plt.axvline(silhouette_avg, color=\"red\", linestyle=\"--\")\n",
        "plt.yticks(y_ticks, df['Cluster'].unique())\n",
        "plt.ylabel('Cluster')\n",
        "plt.xlabel('Silhouette coefficient values')\n",
        "plt.title('Silhouette Plot for Clusters')\n",
        "plt.show()\n"
      ],
      "metadata": {
        "id": "ehVMrlcMqFGC"
      },
      "execution_count": null,
      "outputs": []
    },
    {
      "cell_type": "markdown",
      "source": [
        "The silhouette plot measures how well data points fit into their clusters. Silhouette coefficients range from -1 to 1, with high values indicating good cluster fit. Using `silhouette_samples`, we compute coefficients for each point. The plot displays sorted coefficients as bars. Longer bars imply better cluster fit. The red line marks the average score. Higher, right-leaning bars signify well-separated clusters, validating cluster quality and choice."
      ],
      "metadata": {
        "id": "ZF6siNOuvZ80"
      }
    },
    {
      "cell_type": "code",
      "source": [
        "from sklearn.metrics import silhouette_score, silhouette_samples\n",
        "\n",
        "# Compute silhouette scores\n",
        "silhouette_avg = silhouette_score(scaled_features, cluster_labels)\n",
        "silhouette_vals = silhouette_samples(scaled_features, cluster_labels)\n",
        "\n",
        "# Print the average silhouette score\n",
        "print(f'Average Silhouette Score: {silhouette_avg:.2f}')\n",
        "\n",
        "# Print silhouette score for each sample (optional)\n",
        "for i in range(optimal_clusters):\n",
        "    cluster_silhouette_vals = silhouette_vals[cluster_labels == i]\n",
        "    print(f'Silhouette Score for Cluster {i}: {np.mean(cluster_silhouette_vals):.2f}')\n"
      ],
      "metadata": {
        "id": "FWl5bwjLqFIn"
      },
      "execution_count": null,
      "outputs": []
    },
    {
      "cell_type": "markdown",
      "source": [
        "\n",
        "---\n",
        "The silhouette score provides a quantitative measure of the quality of the clusters created by the K-means algorithm. A high average silhouette score (close to 1) indicates well-separated clusters. Understanding both the average silhouette score and individual sample scores helps assess the clustering model's effectiveness in grouping similar data points together.\"\n",
        "\n",
        "\n",
        "\n",
        "\n",
        "\n"
      ],
      "metadata": {
        "id": "KX-V4HkvuuDl"
      }
    },
    {
      "cell_type": "markdown",
      "source": [
        "---\n",
        "# Conclusion:\n",
        "this project successfully applied K-means clustering to group retail store customers based on their age, annual income, and spending score. The Elbow Method helped determine the optimal number of clusters, and the resulting clusters were visualized in a 3D graph. The silhouette score provided a quantitative evaluation of the clustering quality, ensuring meaningful customer segmentation. This analysis equips businesses with valuable insights into their customer base, allowing for targeted marketing strategies and personalized customer experiences. By understanding customer segments, businesses can enhance customer satisfaction and drive strategic decision-making."
      ],
      "metadata": {
        "id": "lxyT8mj8vk_m"
      }
    }
  ]
}